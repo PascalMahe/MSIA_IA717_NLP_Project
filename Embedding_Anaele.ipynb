{
 "cells": [
  {
   "cell_type": "code",
   "execution_count": 249,
   "id": "1768f46f",
   "metadata": {},
   "outputs": [],
   "source": [
    "import os\n",
    "import pandas as pd\n",
    "import time\n",
    "#import pymagnitude \n",
    "import matplotlib.pyplot as plt\n",
    "import numpy as np\n",
    "from nltk.stem.porter import PorterStemmer\n"
   ]
  },
  {
   "cell_type": "code",
   "execution_count": 250,
   "id": "48615bf4",
   "metadata": {},
   "outputs": [
    {
     "name": "stdout",
     "output_type": "stream",
     "text": [
      "Requirement already satisfied: nltk in c:\\users\\anaele.baudant\\anaconda3\\lib\\site-packages (3.8.1)\n",
      "Requirement already satisfied: click in c:\\users\\anaele.baudant\\anaconda3\\lib\\site-packages (from nltk) (8.0.4)\n",
      "Requirement already satisfied: joblib in c:\\users\\anaele.baudant\\anaconda3\\lib\\site-packages (from nltk) (1.2.0)\n",
      "Requirement already satisfied: regex>=2021.8.3 in c:\\users\\anaele.baudant\\anaconda3\\lib\\site-packages (from nltk) (2022.7.9)\n",
      "Requirement already satisfied: tqdm in c:\\users\\anaele.baudant\\anaconda3\\lib\\site-packages (from nltk) (4.65.0)\n",
      "Requirement already satisfied: colorama in c:\\users\\anaele.baudant\\anaconda3\\lib\\site-packages (from click->nltk) (0.4.6)\n"
     ]
    },
    {
     "name": "stderr",
     "output_type": "stream",
     "text": [
      "DEPRECATION: Loading egg at c:\\users\\anaele.baudant\\anaconda3\\lib\\site-packages\\pymagnitude-0.1.143-py3.11-win-amd64.egg is deprecated. pip 23.3 will enforce this behaviour change. A possible replacement is to use pip for package installation..\n"
     ]
    }
   ],
   "source": [
    "# if necesseray install the Natural Language Toolkit (NLTK) in Python\n",
    "!pip install nltk\n"
   ]
  },
  {
   "cell_type": "code",
   "execution_count": 251,
   "id": "564b505d",
   "metadata": {},
   "outputs": [
    {
     "name": "stdout",
     "output_type": "stream",
     "text": [
      "Requirement already satisfied: gensim in c:\\users\\anaele.baudant\\anaconda3\\lib\\site-packages (4.3.0)\n",
      "Requirement already satisfied: numpy>=1.18.5 in c:\\users\\anaele.baudant\\anaconda3\\lib\\site-packages (from gensim) (1.24.3)\n",
      "Requirement already satisfied: scipy>=1.7.0 in c:\\users\\anaele.baudant\\anaconda3\\lib\\site-packages (from gensim) (1.10.1)\n",
      "Requirement already satisfied: smart-open>=1.8.1 in c:\\users\\anaele.baudant\\anaconda3\\lib\\site-packages (from gensim) (5.2.1)\n",
      "Requirement already satisfied: FuzzyTM>=0.4.0 in c:\\users\\anaele.baudant\\anaconda3\\lib\\site-packages (from gensim) (2.0.5)\n",
      "Requirement already satisfied: pandas in c:\\users\\anaele.baudant\\anaconda3\\lib\\site-packages (from FuzzyTM>=0.4.0->gensim) (1.5.3)\n",
      "Requirement already satisfied: pyfume in c:\\users\\anaele.baudant\\anaconda3\\lib\\site-packages (from FuzzyTM>=0.4.0->gensim) (0.2.25)\n",
      "Requirement already satisfied: python-dateutil>=2.8.1 in c:\\users\\anaele.baudant\\anaconda3\\lib\\site-packages (from pandas->FuzzyTM>=0.4.0->gensim) (2.8.2)\n",
      "Requirement already satisfied: pytz>=2020.1 in c:\\users\\anaele.baudant\\anaconda3\\lib\\site-packages (from pandas->FuzzyTM>=0.4.0->gensim) (2022.7)\n",
      "Requirement already satisfied: simpful in c:\\users\\anaele.baudant\\anaconda3\\lib\\site-packages (from pyfume->FuzzyTM>=0.4.0->gensim) (2.11.0)\n",
      "Requirement already satisfied: fst-pso in c:\\users\\anaele.baudant\\anaconda3\\lib\\site-packages (from pyfume->FuzzyTM>=0.4.0->gensim) (1.8.1)\n",
      "Requirement already satisfied: six>=1.5 in c:\\users\\anaele.baudant\\anaconda3\\lib\\site-packages (from python-dateutil>=2.8.1->pandas->FuzzyTM>=0.4.0->gensim) (1.16.0)\n",
      "Requirement already satisfied: miniful in c:\\users\\anaele.baudant\\anaconda3\\lib\\site-packages (from fst-pso->pyfume->FuzzyTM>=0.4.0->gensim) (0.0.6)\n",
      "Note: you may need to restart the kernel to use updated packages.\n"
     ]
    },
    {
     "name": "stderr",
     "output_type": "stream",
     "text": [
      "DEPRECATION: Loading egg at c:\\users\\anaele.baudant\\anaconda3\\lib\\site-packages\\pymagnitude-0.1.143-py3.11-win-amd64.egg is deprecated. pip 23.3 will enforce this behaviour change. A possible replacement is to use pip for package installation..\n"
     ]
    },
    {
     "name": "stdout",
     "output_type": "stream",
     "text": [
      "Requirement already satisfied: POT in c:\\users\\anaele.baudant\\anaconda3\\lib\\site-packages (0.9.1)\n",
      "Requirement already satisfied: numpy>=1.16 in c:\\users\\anaele.baudant\\anaconda3\\lib\\site-packages (from POT) (1.24.3)\n",
      "Requirement already satisfied: scipy>=1.0 in c:\\users\\anaele.baudant\\anaconda3\\lib\\site-packages (from POT) (1.10.1)\n",
      "Note: you may need to restart the kernel to use updated packages.\n"
     ]
    },
    {
     "name": "stderr",
     "output_type": "stream",
     "text": [
      "DEPRECATION: Loading egg at c:\\users\\anaele.baudant\\anaconda3\\lib\\site-packages\\pymagnitude-0.1.143-py3.11-win-amd64.egg is deprecated. pip 23.3 will enforce this behaviour change. A possible replacement is to use pip for package installation..\n"
     ]
    },
    {
     "name": "stdout",
     "output_type": "stream",
     "text": [
      "Requirement already satisfied: pyemd in c:\\users\\anaele.baudant\\anaconda3\\lib\\site-packages (1.0.0)\n",
      "Requirement already satisfied: numpy>=1.9.0 in c:\\users\\anaele.baudant\\anaconda3\\lib\\site-packages (from pyemd) (1.24.3)\n",
      "Note: you may need to restart the kernel to use updated packages.\n"
     ]
    },
    {
     "name": "stderr",
     "output_type": "stream",
     "text": [
      "DEPRECATION: Loading egg at c:\\users\\anaele.baudant\\anaconda3\\lib\\site-packages\\pymagnitude-0.1.143-py3.11-win-amd64.egg is deprecated. pip 23.3 will enforce this behaviour change. A possible replacement is to use pip for package installation..\n"
     ]
    }
   ],
   "source": [
    "%pip install gensim\n",
    "#install POT and pyemd necessary to use the Gensim's WMD implementation \n",
    "#(Python Optimal Transport library)\n",
    "%pip install POT\n",
    "#(Python Earth Mover's Distance library)\n",
    "%pip install pyemd \n"
   ]
  },
  {
   "cell_type": "code",
   "execution_count": 255,
   "id": "ce11e468",
   "metadata": {},
   "outputs": [
    {
     "name": "stderr",
     "output_type": "stream",
     "text": [
      "'pwd' n'est pas reconnu en tant que commande interne\n",
      "ou externe, un programme ex‚cutable ou un fichier de commandes.\n"
     ]
    }
   ],
   "source": [
    "! pwd\n",
    "#!cd c:\\Users\\anaele.baudant\\'OneDrive - BEFIVE'"
   ]
  },
  {
   "cell_type": "code",
   "execution_count": 27,
   "id": "601ab990",
   "metadata": {},
   "outputs": [],
   "source": []
  },
  {
   "cell_type": "code",
   "execution_count": 187,
   "id": "e234bda3",
   "metadata": {},
   "outputs": [],
   "source": [
    "#BUG\n",
    "#from features import load_data, preprocess_dataset"
   ]
  },
  {
   "cell_type": "code",
   "execution_count": 226,
   "id": "36b83b16",
   "metadata": {},
   "outputs": [],
   "source": [
    "#reprise des fonctions load_data preprocess_sentence et preprocess_dataset\n",
    "\n",
    "def load_data():\n",
    "    data = dict()\n",
    "    #for fn in os.listdir(\"stsbenchmark\"):\n",
    "    for fn in os.listdir(\"stsbenchmark\"):\n",
    "        if fn.endswith(\".csv\"):\n",
    "            with open(\"stsbenchmark/\" + fn,encoding='utf-8') as f:\n",
    "                subset = fn[:-4].split(\"-\")[1]\n",
    "                #logger.info(f\"subset: %s\", subset)\n",
    "                data[subset] = dict()\n",
    "                data[subset]['data'] = []\n",
    "                data[subset]['scores'] = []\n",
    "                for l in f:\n",
    "                    # genre filename year score sentence1 sentence2 (and sources, sometimes)\n",
    "                    l = l.strip().split(\"\\t\")\n",
    "                    data[subset]['data'].append((l[5], l[6]))\n",
    "                    data[subset]['scores'].append(float(l[4]))\n",
    "    return data\n",
    "\n",
    "def preprocess_sentence(sentence):\n",
    "    stemmer = PorterStemmer()\n",
    "    # tokenize and lower case\n",
    "    tokens = word_tokenize(sentence.lower())\n",
    "    # stemming and removing stop words\n",
    "    stemmed_tokens = [stemmer.stem(token) for token in tokens if not token in set(\n",
    "        stopwords.words('english'))]\n",
    "    # remove punctuations\n",
    "    filtered_tokens = [\n",
    "        token for token in stemmed_tokens if token not in punctuation]\n",
    "    # return ' '.join(filtered_tokens) # Anaele supprimé ici et intégré dans preprocess_dataset()\n",
    "    return filtered_tokens  # renvoie une liste (vecteur de la phrase)\n",
    "\n",
    "def preprocess_dataset(dataset):\n",
    "    df = pd.DataFrame(dataset)\n",
    "\n",
    "    df[['s1', 's2']] = df['data'].apply(lambda x: pd.Series(x))\n",
    "    df['sm'] = df['s1'] + \" \" + df['s2']  # merged sentences\n",
    "    # preprocessing des phrases 1 et 2 en vecteur ou string :\n",
    "    df['token_1'] = df['s1'].apply(preprocess_sentence)  # vecteur\n",
    "    df['token_2'] = df['s2'].apply(preprocess_sentence)  # vecteur\n",
    "    df['token_m'] = df['sm'].apply(preprocess_sentence)  # vecteur\n",
    "    df['s1_pp'] = df['token_1'].apply(' '.join)  # string\n",
    "    df['s2_pp'] = df['token_2'].apply(' '.join)  # string\n",
    "    df['sm_pp'] = df['token_m'].apply(' '.join)  # string\n",
    "    df['scores_norm'] = df['scores'] / 5  # normalisation du score entre 0 et 1\n",
    "    # Replace empty strings with NaN\n",
    "    df.replace('', np.nan, inplace=True)\n",
    "\n",
    "    # Store the index labels before dropna\n",
    "    index_before_dropna = df.index\n",
    "\n",
    "    # Drop rows with NaN values\n",
    "    df.dropna(inplace=True)\n",
    "\n",
    "    df.reset_index(drop=True)\n",
    "\n",
    "    # Store the index labels after dropna\n",
    "    index_after_dropna = df.index\n",
    "\n",
    "    # Get the index labels that were dropped\n",
    "    dropped_indexes = index_before_dropna.difference(index_after_dropna)\n",
    "\n",
    "    return df\n"
   ]
  },
  {
   "cell_type": "code",
   "execution_count": null,
   "id": "191cab7f",
   "metadata": {},
   "outputs": [],
   "source": [
    "#chargement de la base de donnée\n",
    "dataset=load_data()\n",
    "df_dev = pd.DataFrame(dataset['dev'])\n",
    "df_train = pd.DataFrame(dataset['train'])\n",
    "df_test = pd.DataFrame(dataset['test'])\n",
    "df_train.head()"
   ]
  },
  {
   "cell_type": "code",
   "execution_count": 256,
   "id": "806bb9ad",
   "metadata": {},
   "outputs": [],
   "source": [
    "#Exploration des données :\n",
    "#print('structure de dataset:',dataset.keys())\n",
    "#print('structure de data[\\'test\\']:',dataset['test'].keys())\n",
    "#print('structure de df_test:',df_test.keys())"
   ]
  },
  {
   "cell_type": "code",
   "execution_count": 306,
   "id": "5a73b1c3",
   "metadata": {},
   "outputs": [],
   "source": [
    "#pre-processing\n",
    "df_dev_pp = preprocess_dataset(df_dev)\n",
    "df_train_pp = preprocess_dataset(df_train)\n",
    "df_test_pp = preprocess_dataset(df_test)"
   ]
  },
  {
   "cell_type": "code",
   "execution_count": 77,
   "id": "853533cb",
   "metadata": {},
   "outputs": [],
   "source": [
    "#cd c:\\Users\\anaele.baudant\\GoogleNews-vectors-negative300\n",
    "#%cd c:\\Users\\anaele.baudant\\GoogleNews-vectors-negative300\n",
    "#%pwd"
   ]
  },
  {
   "cell_type": "code",
   "execution_count": 174,
   "id": "49abca4e",
   "metadata": {},
   "outputs": [],
   "source": [
    "#MODEL KeyedVerctors de Word2vec (extension .bin)\n",
    "# à partir du fichier à télécharger préalablement: GoogleNews-vectors-negative300.bin\n",
    "# https://drive.google.com/u/0/uc?id=0B7XkCwpI5KDYNlNUTTlSS21pQmM&export=download\n",
    "# !!! ficher fait 1,5 GB compressé et 3,6 GB décompressé !!!\n",
    "\n",
    "from gensim.models import KeyedVectors\n",
    "\n",
    "#path = 'c:\\Users\\anaele.baudant\\GoogleNews-vectors-negative300\\GoogleNews-vectors-negative300.bin\\'\n",
    "file='GoogleNews-vectors-negative300.bin'\n",
    "\n",
    "# Load vectors directly from the file\n",
    "model = KeyedVectors.load_word2vec_format(file, binary=True)   \n",
    "\n",
    "def remove_OOV(text):\n",
    "    '''removes words in sentence that is not found in the vocabulary\n",
    "    OOV=out of vocabulary'''\n",
    "    return [word for word in doc if word in model.key_to_index]\n"
   ]
  },
  {
   "cell_type": "code",
   "execution_count": 307,
   "id": "8696ace7",
   "metadata": {},
   "outputs": [
    {
     "name": "stdout",
     "output_type": "stream",
     "text": [
      "6 premieres valeurs des vecteurs (de dimension 300 )\n",
      "dog [ 0.05126953 -0.02233887 -0.17285156  0.16113281 -0.08447266  0.05737305]\n",
      "dogs [-0.02050781 -0.01245117 -0.12792969  0.21777344 -0.140625    0.02612305]\n",
      "cat [ 0.0123291   0.20410156 -0.28515625  0.21679688  0.11816406  0.08300781]\n",
      "\n",
      "distance cat dog: 1.0106912030917452\n",
      "distance dog dogs: 0.29174261808811397\n",
      "distance dog philosophy: 0.7649682443081849\n"
     ]
    }
   ],
   "source": [
    "#illustration du modele KeyedVectors\n",
    "dog = model['dog']\n",
    "cat = model['cat']\n",
    "dogs = model['dogs']\n",
    "\n",
    "print(\"6 premieres valeurs des vecteurs (de dimension\",dog.shape[0],')')\n",
    "print('dog',dog[:6])\n",
    "print('dogs',dogs[:6])\n",
    "print('cat',cat[:6])\n",
    "\n",
    "# calcul de la distance avec wmdistance (Word Mover's Distance (WMD))\n",
    "#distance sur R+ / si résultat = inf (infiny) il y a une erreur (word out of vocabulary ou pb format)\n",
    "distance1 = model.wmdistance('cat', 'dog')\n",
    "distance2 = model.wmdistance('dog', 'dogs')\n",
    "distance3 = model.wmdistance('dog', 'philosophy')\n",
    "\n",
    "print('\\ndistance cat dog:',distance1)\n",
    "print('distance dog dogs:',distance2)\n",
    "print('distance dog philosophy:',distance3)"
   ]
  },
  {
   "cell_type": "code",
   "execution_count": 309,
   "id": "9b19ce37",
   "metadata": {},
   "outputs": [
    {
     "name": "stdout",
     "output_type": "stream",
     "text": [
      "doc1 : ['cat', 'on', 'table', 'dflkjdsqlkmfjdsfdlk'] \n",
      "doc2 : ['cat', 'on', 'table']\n",
      "distance doc1 - doc2: 0.0\n",
      "s1 : ['cat on table dflkjdsqlkmfjdsfdlk'] \n",
      "s2 : ['cat on table dflkjdsqlkmfjdsfdlk']\n",
      "distance s1 - s2: inf\n"
     ]
    }
   ],
   "source": [
    "#test word out of vocabulary\n",
    "doc1 =['cat','on','table','dflkjdsqlkmfjdsfdlk']\n",
    "#doc1=['plane', 'take']\n",
    "doc2 = [word for word in doc1 if word in model.key_to_index]\n",
    "print('doc1 :',doc1,'\\ndoc2 :',doc2)\n",
    "print('distance doc1 - doc2:',model.wmdistance(doc1, doc2))\n",
    "s1 =['cat on table dflkjdsqlkmfjdsfdlk']\n",
    "s2 =['cat on table dflkjdsqlkmfjdsfdlk']\n",
    "print('s1 :',s1,'\\ns2 :',s2)\n",
    "print('distance s1 - s2:',model.wmdistance(s1, s2))"
   ]
  },
  {
   "cell_type": "code",
   "execution_count": 314,
   "id": "d4c3a473",
   "metadata": {},
   "outputs": [
    {
     "data": {
      "text/plain": [
       "str"
      ]
     },
     "execution_count": 314,
     "metadata": {},
     "output_type": "execute_result"
    }
   ],
   "source": [
    "df_train_pp.iloc[:,0].head()\n",
    "type((df_train_pp.iloc[:,0][0])[0])"
   ]
  },
  {
   "cell_type": "code",
   "execution_count": 318,
   "id": "052d313b",
   "metadata": {},
   "outputs": [
    {
     "data": {
      "text/plain": [
       "1000"
      ]
     },
     "execution_count": 318,
     "metadata": {},
     "output_type": "execute_result"
    }
   ],
   "source": [
    "df_train_pp.shape[0]"
   ]
  },
  {
   "cell_type": "code",
   "execution_count": 359,
   "id": "029e16e0",
   "metadata": {},
   "outputs": [],
   "source": [
    "def WMD_score(df,s1,s2,m=1):\n",
    "    \"\"\"Calcule la distance WMD et les scores associé entre les phrases de 2 colonnes\n",
    "    Attributes:\n",
    "        df: The pandas dataframe\n",
    "        s1: The label of the first sentence (can be a string  or list of strings)\n",
    "        s2: The label of the second sentence (can be a string  or list of strings)\n",
    "        m: coefficient for the exponential score\n",
    "    \"\"\"\n",
    "    for i in range(df.shape[0]):\n",
    "\n",
    "        s1v=df[s1].iloc[i]\n",
    "        s2v=df[s2].iloc[i]\n",
    "        #retire les mots pas dans le vocabulaire\n",
    "        s1v=[word for word in s1v if word in model.key_to_index]\n",
    "        s2v=[word for word in s2v if word in model.key_to_index]\n",
    "        #calcule distance WMD\n",
    "        distance_wmd=model.wmdistance(s1v,s2v)\n",
    "        df.loc[i, 'distance_WMD'] = distance_wmd\n",
    "        #transformation distance en score normalisé (entre 0 et 1)\n",
    "        df.loc[i, 'scores_WMD_exp'] = 1-distance_wmd\n",
    "        df.loc[i, 'scores_WMD_inv'] = np.exp(-distance_wmd*m)\n",
    "    df['scores_WMD_max'] = 1-df['distance_WMD']/df['distance_WMD'].max()\n",
    "    return df\n",
    "\n",
    "def WMD_score_str(df,m=1):\n",
    "    '''Calcule la distance WMD et les scores associé entre deux phrases dans un tupple (dataset non processé)'''\n",
    "    for i in range(df.shape[0]):\n",
    "        #retire les mots pas dans le vocabulaire\n",
    "        s=df.iloc[i,0]\n",
    "        s1v=s[0]\n",
    "        s2v=s[1]\n",
    "        #s1v=[word for word in s1v if word in model.key_to_index]\n",
    "        #s2v=[word for word in s2v if word in model.key_to_index]\n",
    "        #calcule distance et scores associés\n",
    "        distance_wmd=model.wmdistance(s1v,s2v)\n",
    "        df.loc[i, 'distance_WMD'] = distance_wmd\n",
    "        df.loc[i, 'scores_WMD_exp'] = 1-distance_wmd\n",
    "        df.loc[i, 'scores_WMD_inv'] = np.exp(-distance_wmd*m)\n",
    "    df['scores_WMD_max'] = 1-df['scores_WMD']/df['scores_WMD'].max()\n",
    "    return df"
   ]
  },
  {
   "cell_type": "code",
   "execution_count": 358,
   "id": "45ab8242",
   "metadata": {},
   "outputs": [
    {
     "data": {
      "text/html": [
       "<div>\n",
       "<style scoped>\n",
       "    .dataframe tbody tr th:only-of-type {\n",
       "        vertical-align: middle;\n",
       "    }\n",
       "\n",
       "    .dataframe tbody tr th {\n",
       "        vertical-align: top;\n",
       "    }\n",
       "\n",
       "    .dataframe thead th {\n",
       "        text-align: right;\n",
       "    }\n",
       "</style>\n",
       "<table border=\"1\" class=\"dataframe\">\n",
       "  <thead>\n",
       "    <tr style=\"text-align: right;\">\n",
       "      <th></th>\n",
       "      <th>s1</th>\n",
       "      <th>s2</th>\n",
       "      <th>scores_init</th>\n",
       "      <th>distance_WMD</th>\n",
       "      <th>scores_WMD_exp</th>\n",
       "      <th>scores_WMD_max</th>\n",
       "    </tr>\n",
       "  </thead>\n",
       "  <tbody>\n",
       "    <tr>\n",
       "      <th>0</th>\n",
       "      <td>A plane is taking off.</td>\n",
       "      <td>An air plane is taking off.</td>\n",
       "      <td>1.00</td>\n",
       "      <td>0.127236</td>\n",
       "      <td>0.872764</td>\n",
       "      <td>0.795718</td>\n",
       "    </tr>\n",
       "    <tr>\n",
       "      <th>1</th>\n",
       "      <td>A man is playing a large flute.</td>\n",
       "      <td>A man is playing a flute.</td>\n",
       "      <td>0.76</td>\n",
       "      <td>0.159812</td>\n",
       "      <td>0.840188</td>\n",
       "      <td>0.743417</td>\n",
       "    </tr>\n",
       "    <tr>\n",
       "      <th>2</th>\n",
       "      <td>A man is spreading shreded cheese on a pizza.</td>\n",
       "      <td>A man is spreading shredded cheese on an uncoo...</td>\n",
       "      <td>0.76</td>\n",
       "      <td>0.160854</td>\n",
       "      <td>0.839146</td>\n",
       "      <td>0.741744</td>\n",
       "    </tr>\n",
       "    <tr>\n",
       "      <th>3</th>\n",
       "      <td>Three men are playing chess.</td>\n",
       "      <td>Two men are playing chess.</td>\n",
       "      <td>0.52</td>\n",
       "      <td>0.173660</td>\n",
       "      <td>0.826340</td>\n",
       "      <td>0.721184</td>\n",
       "    </tr>\n",
       "    <tr>\n",
       "      <th>4</th>\n",
       "      <td>A man is playing the cello.</td>\n",
       "      <td>A man seated is playing the cello.</td>\n",
       "      <td>0.85</td>\n",
       "      <td>0.180407</td>\n",
       "      <td>0.819593</td>\n",
       "      <td>0.710352</td>\n",
       "    </tr>\n",
       "  </tbody>\n",
       "</table>\n",
       "</div>"
      ],
      "text/plain": [
       "                                              s1  \\\n",
       "0                         A plane is taking off.   \n",
       "1                A man is playing a large flute.   \n",
       "2  A man is spreading shreded cheese on a pizza.   \n",
       "3                   Three men are playing chess.   \n",
       "4                    A man is playing the cello.   \n",
       "\n",
       "                                                  s2  scores_init  \\\n",
       "0                        An air plane is taking off.         1.00   \n",
       "1                          A man is playing a flute.         0.76   \n",
       "2  A man is spreading shredded cheese on an uncoo...         0.76   \n",
       "3                         Two men are playing chess.         0.52   \n",
       "4                 A man seated is playing the cello.         0.85   \n",
       "\n",
       "   distance_WMD  scores_WMD_exp  scores_WMD_max  \n",
       "0      0.127236        0.872764        0.795718  \n",
       "1      0.159812        0.840188        0.743417  \n",
       "2      0.160854        0.839146        0.741744  \n",
       "3      0.173660        0.826340        0.721184  \n",
       "4      0.180407        0.819593        0.710352  "
      ]
     },
     "execution_count": 358,
     "metadata": {},
     "output_type": "execute_result"
    }
   ],
   "source": [
    "#WMD score on non-pre-processed data\n",
    "WMD_score_str(df_train)\n",
    "#WMD_score2(df_train_pp,'token_1','token_2')\n",
    "#WMD_score(df_train_pp,'token_1','token_2')\n",
    "df_train[['s1','s2','scores_init','distance_WMD','scores_WMD_exp','scores_WMD_max']].head()"
   ]
  },
  {
   "cell_type": "code",
   "execution_count": 360,
   "id": "9fd297be",
   "metadata": {},
   "outputs": [
    {
     "data": {
      "text/html": [
       "<div>\n",
       "<style scoped>\n",
       "    .dataframe tbody tr th:only-of-type {\n",
       "        vertical-align: middle;\n",
       "    }\n",
       "\n",
       "    .dataframe tbody tr th {\n",
       "        vertical-align: top;\n",
       "    }\n",
       "\n",
       "    .dataframe thead th {\n",
       "        text-align: right;\n",
       "    }\n",
       "</style>\n",
       "<table border=\"1\" class=\"dataframe\">\n",
       "  <thead>\n",
       "    <tr style=\"text-align: right;\">\n",
       "      <th></th>\n",
       "      <th>s1</th>\n",
       "      <th>s2</th>\n",
       "      <th>scores_init</th>\n",
       "      <th>distance_WMD</th>\n",
       "      <th>scores_WMD_exp</th>\n",
       "      <th>scores_WMD_max</th>\n",
       "    </tr>\n",
       "  </thead>\n",
       "  <tbody>\n",
       "    <tr>\n",
       "      <th>0</th>\n",
       "      <td>A plane is taking off.</td>\n",
       "      <td>An air plane is taking off.</td>\n",
       "      <td>1.00</td>\n",
       "      <td>0.127236</td>\n",
       "      <td>0.872764</td>\n",
       "      <td>0.795718</td>\n",
       "    </tr>\n",
       "    <tr>\n",
       "      <th>1</th>\n",
       "      <td>A man is playing a large flute.</td>\n",
       "      <td>A man is playing a flute.</td>\n",
       "      <td>0.76</td>\n",
       "      <td>0.159812</td>\n",
       "      <td>0.840188</td>\n",
       "      <td>0.743417</td>\n",
       "    </tr>\n",
       "    <tr>\n",
       "      <th>2</th>\n",
       "      <td>A man is spreading shreded cheese on a pizza.</td>\n",
       "      <td>A man is spreading shredded cheese on an uncoo...</td>\n",
       "      <td>0.76</td>\n",
       "      <td>0.160854</td>\n",
       "      <td>0.839146</td>\n",
       "      <td>0.741744</td>\n",
       "    </tr>\n",
       "    <tr>\n",
       "      <th>3</th>\n",
       "      <td>Three men are playing chess.</td>\n",
       "      <td>Two men are playing chess.</td>\n",
       "      <td>0.52</td>\n",
       "      <td>0.173660</td>\n",
       "      <td>0.826340</td>\n",
       "      <td>0.721184</td>\n",
       "    </tr>\n",
       "    <tr>\n",
       "      <th>4</th>\n",
       "      <td>A man is playing the cello.</td>\n",
       "      <td>A man seated is playing the cello.</td>\n",
       "      <td>0.85</td>\n",
       "      <td>0.180407</td>\n",
       "      <td>0.819593</td>\n",
       "      <td>0.710352</td>\n",
       "    </tr>\n",
       "  </tbody>\n",
       "</table>\n",
       "</div>"
      ],
      "text/plain": [
       "                                              s1  \\\n",
       "0                         A plane is taking off.   \n",
       "1                A man is playing a large flute.   \n",
       "2  A man is spreading shreded cheese on a pizza.   \n",
       "3                   Three men are playing chess.   \n",
       "4                    A man is playing the cello.   \n",
       "\n",
       "                                                  s2  scores_init  \\\n",
       "0                        An air plane is taking off.         1.00   \n",
       "1                          A man is playing a flute.         0.76   \n",
       "2  A man is spreading shredded cheese on an uncoo...         0.76   \n",
       "3                         Two men are playing chess.         0.52   \n",
       "4                 A man seated is playing the cello.         0.85   \n",
       "\n",
       "   distance_WMD  scores_WMD_exp  scores_WMD_max  \n",
       "0      0.127236        0.872764        0.795718  \n",
       "1      0.159812        0.840188        0.743417  \n",
       "2      0.160854        0.839146        0.741744  \n",
       "3      0.173660        0.826340        0.721184  \n",
       "4      0.180407        0.819593        0.710352  "
      ]
     },
     "execution_count": 360,
     "metadata": {},
     "output_type": "execute_result"
    }
   ],
   "source": [
    "#####################################################\n",
    "# 1. WMD score on non-pre-processed data (strings)  #\n",
    "#####################################################\n",
    "WMD_score(df_train_pp,'s1','s2')\n",
    "#WMD_score(df_train_pp,'token_1','token_2')\n",
    "df_train_pp[['s1','s2','scores_init','distance_WMD','scores_WMD_exp','scores_WMD_max']].head()"
   ]
  },
  {
   "cell_type": "code",
   "execution_count": 352,
   "id": "679d9eec",
   "metadata": {},
   "outputs": [
    {
     "data": {
      "text/plain": [
       "<function matplotlib.pyplot.plot(*args, scalex=True, scaley=True, data=None, **kwargs)>"
      ]
     },
     "execution_count": 352,
     "metadata": {},
     "output_type": "execute_result"
    },
    {
     "data": {
      "image/png": "[encoded data removed]",
      "text/plain": [
       "<Figure size 640x480 with 1 Axes>"
      ]
     },
     "metadata": {},
     "output_type": "display_data"
    }
   ],
   "source": [
    "# score initial (x) et 1-score_pwd (y) NON PREPROCESSED\n",
    "plt.scatter(df_train_pp['scores_init'],1-df_train_pp['distance_WMD'])#),'.',color='red')\n",
    "#plt.scatter(df_train['scores_init'],df_train['scores_WMD_exp'])\n",
    "plt.xlabel('score normalisé (initial)',fontsize=10)\n",
    "plt.ylabel('1-distance WMD',fontsize=10)\n",
    "plt.title('score on full sentences (non pre-processed data)')\n",
    "plt.plot"
   ]
  },
  {
   "cell_type": "code",
   "execution_count": 354,
   "id": "ef1cf66e",
   "metadata": {},
   "outputs": [
    {
     "data": {
      "text/html": [
       "<div>\n",
       "<style scoped>\n",
       "    .dataframe tbody tr th:only-of-type {\n",
       "        vertical-align: middle;\n",
       "    }\n",
       "\n",
       "    .dataframe tbody tr th {\n",
       "        vertical-align: top;\n",
       "    }\n",
       "\n",
       "    .dataframe thead th {\n",
       "        text-align: right;\n",
       "    }\n",
       "</style>\n",
       "<table border=\"1\" class=\"dataframe\">\n",
       "  <thead>\n",
       "    <tr style=\"text-align: right;\">\n",
       "      <th></th>\n",
       "      <th>token_1</th>\n",
       "      <th>token_2</th>\n",
       "      <th>scores_norm</th>\n",
       "      <th>distance_WMD</th>\n",
       "      <th>scores_WMD_exp</th>\n",
       "      <th>scores_WMD_max</th>\n",
       "    </tr>\n",
       "  </thead>\n",
       "  <tbody>\n",
       "    <tr>\n",
       "      <th>0</th>\n",
       "      <td>[plane, take]</td>\n",
       "      <td>[air, plane, take]</td>\n",
       "      <td>1.00</td>\n",
       "      <td>0.417267</td>\n",
       "      <td>0.582733</td>\n",
       "      <td>1.0</td>\n",
       "    </tr>\n",
       "    <tr>\n",
       "      <th>1</th>\n",
       "      <td>[man, play, larg, flute]</td>\n",
       "      <td>[man, play, flute]</td>\n",
       "      <td>0.76</td>\n",
       "      <td>0.338564</td>\n",
       "      <td>0.661436</td>\n",
       "      <td>1.0</td>\n",
       "    </tr>\n",
       "    <tr>\n",
       "      <th>2</th>\n",
       "      <td>[man, spread, shrede, chees, pizza]</td>\n",
       "      <td>[man, spread, shred, chees, uncook, pizza]</td>\n",
       "      <td>0.76</td>\n",
       "      <td>0.334131</td>\n",
       "      <td>0.665869</td>\n",
       "      <td>1.0</td>\n",
       "    </tr>\n",
       "    <tr>\n",
       "      <th>3</th>\n",
       "      <td>[three, men, play, chess]</td>\n",
       "      <td>[two, men, play, chess]</td>\n",
       "      <td>0.52</td>\n",
       "      <td>0.094085</td>\n",
       "      <td>0.905915</td>\n",
       "      <td>1.0</td>\n",
       "    </tr>\n",
       "    <tr>\n",
       "      <th>4</th>\n",
       "      <td>[man, play, cello]</td>\n",
       "      <td>[man, seat, play, cello]</td>\n",
       "      <td>0.85</td>\n",
       "      <td>0.338632</td>\n",
       "      <td>0.661368</td>\n",
       "      <td>1.0</td>\n",
       "    </tr>\n",
       "  </tbody>\n",
       "</table>\n",
       "</div>"
      ],
      "text/plain": [
       "                               token_1  \\\n",
       "0                        [plane, take]   \n",
       "1             [man, play, larg, flute]   \n",
       "2  [man, spread, shrede, chees, pizza]   \n",
       "3            [three, men, play, chess]   \n",
       "4                   [man, play, cello]   \n",
       "\n",
       "                                      token_2  scores_norm  distance_WMD  \\\n",
       "0                          [air, plane, take]         1.00      0.417267   \n",
       "1                          [man, play, flute]         0.76      0.338564   \n",
       "2  [man, spread, shred, chees, uncook, pizza]         0.76      0.334131   \n",
       "3                     [two, men, play, chess]         0.52      0.094085   \n",
       "4                    [man, seat, play, cello]         0.85      0.338632   \n",
       "\n",
       "   scores_WMD_exp  scores_WMD_max  \n",
       "0        0.582733             1.0  \n",
       "1        0.661436             1.0  \n",
       "2        0.665869             1.0  \n",
       "3        0.905915             1.0  \n",
       "4        0.661368             1.0  "
      ]
     },
     "execution_count": 354,
     "metadata": {},
     "output_type": "execute_result"
    }
   ],
   "source": [
    "##################################################\n",
    "# 2. WMD score on pre-processed data (vecteurs)  #\n",
    "##################################################\n",
    "WMD_score(df_train_pp,'token_1','token_2')\n",
    "df_train_pp[['token_1','token_2','scores_norm','distance_WMD','scores_WMD_exp','scores_WMD_max']].head()"
   ]
  },
  {
   "cell_type": "code",
   "execution_count": 355,
   "id": "3cba5bea",
   "metadata": {},
   "outputs": [
    {
     "data": {
      "text/plain": [
       "<function matplotlib.pyplot.plot(*args, scalex=True, scaley=True, data=None, **kwargs)>"
      ]
     },
     "execution_count": 355,
     "metadata": {},
     "output_type": "execute_result"
    },
    {
     "data": {
      "image/png": "[encoded data removed]",
      "text/plain": [
       "<Figure size 640x480 with 1 Axes>"
      ]
     },
     "metadata": {},
     "output_type": "display_data"
    }
   ],
   "source": [
    "# score initial (x) et 1-score_pwd (y) NON PREPROCESSED\n",
    "plt.scatter(df_train_pp['scores_init'],1-df_train_pp['distance_WMD'])#),'.',color='red')\n",
    "#plt.scatter(df_train['scores_init'],df_train['scores_WMD_exp'])\n",
    "plt.xlabel('score normalisé (initial)',fontsize=10)\n",
    "plt.ylabel('1-distance WMD',fontsize=10)\n",
    "plt.title('score on vectors (pre-processed data)')\n",
    "plt.plot"
   ]
  },
  {
   "cell_type": "code",
   "execution_count": null,
   "id": "58cfe303",
   "metadata": {},
   "outputs": [],
   "source": []
  },
  {
   "cell_type": "code",
   "execution_count": 246,
   "id": "5223b814",
   "metadata": {},
   "outputs": [
    {
     "ename": "ModuleNotFoundError",
     "evalue": "No module named 'annoy'",
     "output_type": "error",
     "traceback": [
      "\u001b[1;31m---------------------------------------------------------------------------\u001b[0m",
      "\u001b[1;31mModuleNotFoundError\u001b[0m                       Traceback (most recent call last)",
      "Cell \u001b[1;32mIn[246], line 7\u001b[0m\n\u001b[0;32m      1\u001b[0m \u001b[38;5;66;03m#MODEL Magnitude de Word2vec (extension .magnitude)\u001b[39;00m\n\u001b[0;32m      2\u001b[0m \u001b[38;5;66;03m# à partir du fichier à télécharger préalablement: GoogleNews-vectors-negative300.bin\u001b[39;00m\n\u001b[0;32m      3\u001b[0m \u001b[38;5;66;03m# http://magnitude.plasticity.ai/word2vec/medium/GoogleNews-vectors-negative300.magnitude\u001b[39;00m\n\u001b[0;32m      4\u001b[0m \u001b[38;5;66;03m# !!! fichier fait 4,9 Go !!!\u001b[39;00m\n\u001b[0;32m      5\u001b[0m \n\u001b[0;32m      6\u001b[0m \u001b[38;5;66;03m#### How pymagnitude works\u001b[39;00m\n\u001b[1;32m----> 7\u001b[0m \u001b[38;5;28;01mfrom\u001b[39;00m \u001b[38;5;21;01mpymagnitude\u001b[39;00m \u001b[38;5;28;01mimport\u001b[39;00m \u001b[38;5;241m*\u001b[39m\n\u001b[0;32m      9\u001b[0m \u001b[38;5;66;03m# Loading vectors\u001b[39;00m\n\u001b[0;32m     10\u001b[0m \u001b[38;5;66;03m## TO COMPLETE : specify the path to the magnitude file in \"\"\u001b[39;00m\n\u001b[0;32m     11\u001b[0m \u001b[38;5;66;03m# magnitude file to download from word2vec\u001b[39;00m\n\u001b[0;32m     12\u001b[0m file\u001b[38;5;241m=\u001b[39m\u001b[38;5;124m'\u001b[39m\u001b[38;5;124mGoogleNews-vectors-negative300.magnitude\u001b[39m\u001b[38;5;124m'\u001b[39m\n",
      "File \u001b[1;32m~\\anaconda3\\Lib\\site-packages\\pymagnitude\\__init__.py:26\u001b[0m\n\u001b[0;32m     23\u001b[0m \u001b[38;5;28;01mimport\u001b[39;00m \u001b[38;5;21;01mnumpy\u001b[39;00m \u001b[38;5;28;01mas\u001b[39;00m \u001b[38;5;21;01mnp\u001b[39;00m\n\u001b[0;32m     24\u001b[0m \u001b[38;5;28;01mimport\u001b[39;00m \u001b[38;5;21;01muuid\u001b[39;00m\n\u001b[1;32m---> 26\u001b[0m \u001b[38;5;28;01mfrom\u001b[39;00m \u001b[38;5;21;01mannoy\u001b[39;00m \u001b[38;5;28;01mimport\u001b[39;00m AnnoyIndex\n\u001b[0;32m     27\u001b[0m \u001b[38;5;28;01mfrom\u001b[39;00m \u001b[38;5;21;01mcopy\u001b[39;00m \u001b[38;5;28;01mimport\u001b[39;00m deepcopy\n\u001b[0;32m     28\u001b[0m \u001b[38;5;28;01mfrom\u001b[39;00m \u001b[38;5;21;01mfasteners\u001b[39;00m \u001b[38;5;28;01mimport\u001b[39;00m InterProcessLock\n",
      "\u001b[1;31mModuleNotFoundError\u001b[0m: No module named 'annoy'"
     ]
    }
   ],
   "source": [
    "#MODEL Magnitude de Word2vec (extension .magnitude)\n",
    "# à partir du fichier à télécharger préalablement: GoogleNews-vectors-negative300.bin\n",
    "# http://magnitude.plasticity.ai/word2vec/medium/GoogleNews-vectors-negative300.magnitude\n",
    "# !!! fichier fait 4,9 Go !!!\n",
    "\n",
    "#### How pymagnitude works\n",
    "from pymagnitude import *\n",
    "\n",
    "# Loading vectors\n",
    "## TO COMPLETE : specify the path to the magnitude file in \"\"\n",
    "# magnitude file to download from word2vec\n",
    "file='GoogleNews-vectors-negative300.magnitude'\n",
    "vectors = Magnitude(path)\n",
    "\n",
    "# This is how you obtain the vector for a word (for example, \"cat\"):\n",
    "cat_vector = vectors.query(\"cat\")"
   ]
  },
  {
   "cell_type": "code",
   "execution_count": 146,
   "id": "ca77db9a",
   "metadata": {},
   "outputs": [
    {
     "name": "stdout",
     "output_type": "stream",
     "text": [
      "Requirement already satisfied: pymagnitude in c:\\users\\anaele.baudant\\anaconda3\\lib\\site-packages\\pymagnitude-0.1.143-py3.11-win-amd64.egg (0.1.143)\n"
     ]
    },
    {
     "name": "stderr",
     "output_type": "stream",
     "text": [
      "DEPRECATION: Loading egg at c:\\users\\anaele.baudant\\anaconda3\\lib\\site-packages\\pymagnitude-0.1.143-py3.11-win-amd64.egg is deprecated. pip 23.3 will enforce this behaviour change. A possible replacement is to use pip for package installation..\n",
      "ERROR: You must give at least one requirement to install (see \"pip help install\")\n"
     ]
    },
    {
     "name": "stdout",
     "output_type": "stream",
     "text": [
      "Collecting annoy\n",
      "  Using cached annoy-1.17.3.tar.gz (647 kB)\n",
      "  Preparing metadata (setup.py): started\n",
      "  Preparing metadata (setup.py): finished with status 'done'\n",
      "Building wheels for collected packages: annoy\n",
      "  Building wheel for annoy (setup.py): started\n",
      "  Building wheel for annoy (setup.py): finished with status 'error'\n",
      "  Running setup.py clean for annoy\n",
      "Failed to build annoy\n",
      "\n",
      "temps de telechargement de pymagnitude (en seconde): 14.974116 s\n"
     ]
    },
    {
     "name": "stderr",
     "output_type": "stream",
     "text": [
      "DEPRECATION: Loading egg at c:\\users\\anaele.baudant\\anaconda3\\lib\\site-packages\\pymagnitude-0.1.143-py3.11-win-amd64.egg is deprecated. pip 23.3 will enforce this behaviour change. A possible replacement is to use pip for package installation..\n",
      "  error: subprocess-exited-with-error\n",
      "  \n",
      "  python setup.py bdist_wheel did not run successfully.\n",
      "  exit code: 1\n",
      "  \n",
      "  [22 lines of output]\n",
      "  C:\\Users\\anaele.baudant\\anaconda3\\Lib\\site-packages\\setuptools\\__init__.py:84: _DeprecatedInstaller: setuptools.installer and fetch_build_eggs are deprecated.\n",
      "  !!\n",
      "  \n",
      "          ********************************************************************************\n",
      "          Requirements should be satisfied by a PEP 517 installer.\n",
      "          If you are using pip, you can try `pip install --use-pep517`.\n",
      "          ********************************************************************************\n",
      "  \n",
      "  !!\n",
      "    dist.fetch_build_eggs(dist.setup_requires)\n",
      "  running bdist_wheel\n",
      "  running build\n",
      "  running build_py\n",
      "  creating build\n",
      "  creating build\\lib.win-amd64-cpython-311\n",
      "  creating build\\lib.win-amd64-cpython-311\\annoy\n",
      "  copying annoy\\__init__.py -> build\\lib.win-amd64-cpython-311\\annoy\n",
      "  copying annoy\\__init__.pyi -> build\\lib.win-amd64-cpython-311\\annoy\n",
      "  copying annoy\\py.typed -> build\\lib.win-amd64-cpython-311\\annoy\n",
      "  running build_ext\n",
      "  building 'annoy.annoylib' extension\n",
      "  error: Microsoft Visual C++ 14.0 or greater is required. Get it with \"Microsoft C++ Build Tools\": https://visualstudio.microsoft.com/visual-cpp-build-tools/\n",
      "  [end of output]\n",
      "  \n",
      "  note: This error originates from a subprocess, and is likely not a problem with pip.\n",
      "  ERROR: Failed building wheel for annoy\n",
      "ERROR: Could not build wheels for annoy, which is required to install pyproject.toml-based projects\n"
     ]
    }
   ],
   "source": [
    "# Install the Pymagnitude word embedding library\n",
    "# !!! this may take some time (around 5 minutes) !!!\n",
    "t=time.time()\n",
    "! pip install pymagnitude\n",
    "print('\\ntemps de telechargement de pymagnitude (en seconde):',round(time.time()-t,6),'s')"
   ]
  },
  {
   "cell_type": "code",
   "execution_count": 148,
   "id": "014904d2",
   "metadata": {},
   "outputs": [
    {
     "name": "stderr",
     "output_type": "stream",
     "text": [
      "ERROR: You must give at least one requirement to install (see \"pip help install\")\n"
     ]
    },
    {
     "name": "stdout",
     "output_type": "stream",
     "text": [
      "Collecting annoy\n",
      "  Using cached annoy-1.17.3.tar.gz (647 kB)\n",
      "  Preparing metadata (setup.py): started\n",
      "  Preparing metadata (setup.py): finished with status 'done'\n",
      "Building wheels for collected packages: annoy\n",
      "  Building wheel for annoy (setup.py): started\n",
      "  Building wheel for annoy (setup.py): finished with status 'error'\n",
      "  Running setup.py clean for annoy\n",
      "Failed to build annoy\n"
     ]
    },
    {
     "name": "stderr",
     "output_type": "stream",
     "text": [
      "DEPRECATION: Loading egg at c:\\users\\anaele.baudant\\anaconda3\\lib\\site-packages\\pymagnitude-0.1.143-py3.11-win-amd64.egg is deprecated. pip 23.3 will enforce this behaviour change. A possible replacement is to use pip for package installation..\n",
      "  error: subprocess-exited-with-error\n",
      "  \n",
      "  python setup.py bdist_wheel did not run successfully.\n",
      "  exit code: 1\n",
      "  \n",
      "  [22 lines of output]\n",
      "  C:\\Users\\anaele.baudant\\anaconda3\\Lib\\site-packages\\setuptools\\__init__.py:84: _DeprecatedInstaller: setuptools.installer and fetch_build_eggs are deprecated.\n",
      "  !!\n",
      "  \n",
      "          ********************************************************************************\n",
      "          Requirements should be satisfied by a PEP 517 installer.\n",
      "          If you are using pip, you can try `pip install --use-pep517`.\n",
      "          ********************************************************************************\n",
      "  \n",
      "  !!\n",
      "    dist.fetch_build_eggs(dist.setup_requires)\n",
      "  running bdist_wheel\n",
      "  running build\n",
      "  running build_py\n",
      "  creating build\n",
      "  creating build\\lib.win-amd64-cpython-311\n",
      "  creating build\\lib.win-amd64-cpython-311\\annoy\n",
      "  copying annoy\\__init__.py -> build\\lib.win-amd64-cpython-311\\annoy\n",
      "  copying annoy\\__init__.pyi -> build\\lib.win-amd64-cpython-311\\annoy\n",
      "  copying annoy\\py.typed -> build\\lib.win-amd64-cpython-311\\annoy\n",
      "  running build_ext\n",
      "  building 'annoy.annoylib' extension\n",
      "  error: Microsoft Visual C++ 14.0 or greater is required. Get it with \"Microsoft C++ Build Tools\": https://visualstudio.microsoft.com/visual-cpp-build-tools/\n",
      "  [end of output]\n",
      "  \n",
      "  note: This error originates from a subprocess, and is likely not a problem with pip.\n",
      "  ERROR: Failed building wheel for annoy\n",
      "ERROR: Could not build wheels for annoy, which is required to install pyproject.toml-based projects\n"
     ]
    }
   ],
   "source": [
    "! pip install --use-pep517\n",
    "! pip install annoy"
   ]
  },
  {
   "cell_type": "code",
   "execution_count": null,
   "id": "39626697",
   "metadata": {},
   "outputs": [],
   "source": []
  }
 ],
 "metadata": {
  "kernelspec": {
   "display_name": "Python 3 (ipykernel)",
   "language": "python",
   "name": "python3"
  },
  "language_info": {
   "codemirror_mode": {
    "name": "ipython",
    "version": 3
   },
   "file_extension": ".py",
   "mimetype": "text/x-python",
   "name": "python",
   "nbconvert_exporter": "python",
   "pygments_lexer": "ipython3",
   "version": "3.11.4"
  }
 },
 "nbformat": 4,
 "nbformat_minor": 5
}
