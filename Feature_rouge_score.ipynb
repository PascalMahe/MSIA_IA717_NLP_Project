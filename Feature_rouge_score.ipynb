{
 "cells": [
  {
   "cell_type": "code",
   "execution_count": 5,
   "id": "bfba6a8c",
   "metadata": {},
   "outputs": [
    {
     "ename": "ModuleNotFoundError",
     "evalue": "No module named 'pyplot'",
     "output_type": "error",
     "traceback": [
      "\u001b[1;31m---------------------------------------------------------------------------\u001b[0m",
      "\u001b[1;31mModuleNotFoundError\u001b[0m                       Traceback (most recent call last)",
      "Cell \u001b[1;32mIn[5], line 1\u001b[0m\n\u001b[1;32m----> 1\u001b[0m \u001b[38;5;28;01mimport\u001b[39;00m \u001b[38;5;21;01mpyplot\u001b[39;00m \u001b[38;5;28;01mas\u001b[39;00m \u001b[38;5;21;01mplt\u001b[39;00m\n",
      "\u001b[1;31mModuleNotFoundError\u001b[0m: No module named 'pyplot'"
     ]
    }
   ],
   "source": [
    "import pyplot as plt"
   ]
  },
  {
   "cell_type": "code",
   "execution_count": 1,
   "id": "41d5ff46",
   "metadata": {},
   "outputs": [],
   "source": [
    "# ROUGE SCORE\n",
    "\n",
    "from rouge_score import rouge_scorer\n",
    "scorer = rouge_scorer.RougeScorer(['rouge1', 'rouge2','rouge3', 'rougeL'], use_stemmer=True) #, 'rougeS'\n",
    "\n",
    "#INFORMATION ABOUT ROUGE SCORES\n",
    "# https://thepythoncode.com/article/calculate-rouge-score-in-python#rouge-score-components-peering-into-the-details\n",
    "\n",
    "#ROUGE-N quantifies the overlap of N-grams, contiguous sequences of N items (typically words or characters)\n",
    "\n",
    "#ROUGE-L calculates the Longest Common Subsequence (LCS) between the system and reference summaries. \n",
    "#Unlike N-grams, LCS measures the maximum sequence of words (not necessarily contiguous) that appear in both summaries.\n",
    "# It offers a more flexible similarity measure and helps capture shared information beyond strict word-for-word matches.\n",
    "\n",
    "#ROUGE-S focuses on skip-bigrams. A skip-bigram is a pair of words in a sentence that allows for gaps or words in between.\n",
    "#This component identifies the skip-bigram overlap between the system and reference summaries, enabling the assessment of\n",
    "#sentence-level structure similarity. It can capture paraphrasing relationships between sentences and provide insights \n",
    "#into the system's ability to convey information with flexible word ordering.05"
   ]
  },
  {
   "cell_type": "code",
   "execution_count": 7,
   "id": "c14b2708",
   "metadata": {},
   "outputs": [
    {
     "name": "stderr",
     "output_type": "stream",
     "text": [
      "DEPRECATION: Loading egg at c:\\users\\anaele.baudant\\anaconda3\\lib\\site-packages\\pymagnitude-0.1.143-py3.11-win-amd64.egg is deprecated. pip 23.3 will enforce this behaviour change. A possible replacement is to use pip for package installation..\n",
      "ERROR: Could not find a version that satisfies the requirement pyplot (from versions: none)\n",
      "ERROR: No matching distribution found for pyplot\n"
     ]
    }
   ],
   "source": [
    "! pip3 install pyplot"
   ]
  },
  {
   "cell_type": "code",
   "execution_count": null,
   "id": "c6375c04",
   "metadata": {},
   "outputs": [],
   "source": [
    "pip install rouge-score"
   ]
  },
  {
   "cell_type": "code",
   "execution_count": 2,
   "id": "80858267",
   "metadata": {},
   "outputs": [
    {
     "name": "stdout",
     "output_type": "stream",
     "text": [
      "rouge1: Score(precision=0.8571428571428571, recall=1.0, fmeasure=0.923076923076923)\n",
      "rouge2: Score(precision=0.6666666666666666, recall=0.8, fmeasure=0.7272727272727272)\n",
      "rouge3: Score(precision=0.4, recall=0.5, fmeasure=0.4444444444444445)\n",
      "rougeL: Score(precision=0.8571428571428571, recall=1.0, fmeasure=0.923076923076923)\n"
     ]
    }
   ],
   "source": [
    "candidate_summary = \"the cat was found under the bed\"\n",
    "reference_summary = \"the cat was under the bed\"\n",
    "scores = scorer.score(reference_summary, candidate_summary)\n",
    "for key in scores:\n",
    "    print(f'{key}: {scores[key]}')"
   ]
  },
  {
   "cell_type": "code",
   "execution_count": null,
   "id": "4ec9c078",
   "metadata": {},
   "outputs": [],
   "source": [
    "def feature_10"
   ]
  }
 ],
 "metadata": {
  "kernelspec": {
   "display_name": "Python 3 (ipykernel)",
   "language": "python",
   "name": "python3"
  },
  "language_info": {
   "codemirror_mode": {
    "name": "ipython",
    "version": 3
   },
   "file_extension": ".py",
   "mimetype": "text/x-python",
   "name": "python",
   "nbconvert_exporter": "python",
   "pygments_lexer": "ipython3",
   "version": "3.11.4"
  }
 },
 "nbformat": 4,
 "nbformat_minor": 5
}
